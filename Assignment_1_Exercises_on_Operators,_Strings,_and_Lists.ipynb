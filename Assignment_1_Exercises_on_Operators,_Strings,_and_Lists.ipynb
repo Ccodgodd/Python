{
  "nbformat": 4,
  "nbformat_minor": 0,
  "metadata": {
    "colab": {
      "provenance": [],
      "authorship_tag": "ABX9TyPtziTrf/47OjdtwQWG+26O",
      "include_colab_link": true
    },
    "kernelspec": {
      "name": "python3",
      "display_name": "Python 3"
    },
    "language_info": {
      "name": "python"
    }
  },
  "cells": [
    {
      "cell_type": "markdown",
      "metadata": {
        "id": "view-in-github",
        "colab_type": "text"
      },
      "source": [
        "<a href=\"https://colab.research.google.com/github/Ccodgodd/Python/blob/main/Assignment_1_Exercises_on_Operators%2C_Strings%2C_and_Lists.ipynb\" target=\"_parent\"><img src=\"https://colab.research.google.com/assets/colab-badge.svg\" alt=\"Open In Colab\"/></a>"
      ]
    },
    {
      "cell_type": "markdown",
      "source": [
        "Exercise 1: Arithmetic Operators\n",
        "Write a Python program to perform the following operations:\n",
        "1. Add, subtract, multiply, and divide two numbers (input by the user).\n",
        "2. Use the modulus operator to find the remainder of their division.\n",
        "3. Use the exponentiation operator to raise the first number to the power of the second\n",
        "number.\n",
        "4. Perform floor division on the two numbers."
      ],
      "metadata": {
        "id": "BR81PGk1eIJx"
      }
    },
    {
      "cell_type": "code",
      "execution_count": null,
      "metadata": {
        "colab": {
          "base_uri": "https://localhost:8080/"
        },
        "id": "8HP6aBdsgqMB",
        "outputId": "39eb080f-4940-4895-9059-0a82b06f864b"
      },
      "outputs": [
        {
          "output_type": "stream",
          "name": "stdout",
          "text": [
            "Enter the first number:=10\n",
            "Enter the second number:=3\n",
            "The addition of two numbers is : 13\n",
            "The Division of two numbers is : 3.3333333333333335\n",
            "The subtraction of two numbers is : 7\n",
            "The Multiplication of two numbers is : 30\n",
            "The modulus of two numbers is : 1\n",
            "The exponential power of a to b is: 1000\n"
          ]
        }
      ],
      "source": [
        "a=int(input(\"Enter the first number:=\"))\n",
        "b=int(input(\"Enter the second number:=\"))\n",
        "print(\"The addition of two numbers is :\",a+b)\n",
        "print(\"The Division of two numbers is :\",a/b)\n",
        "print(\"The subtraction of two numbers is :\",a-b)\n",
        "print(\"The Multiplication of two numbers is :\",a*b)\n",
        "print(\"The modulus of two numbers is :\",a%b)\n",
        "print(\"The exponential power of a to b is:\",a**b)"
      ]
    },
    {
      "cell_type": "markdown",
      "source": [
        "Exercise 2: Comparison Operators\n",
        "Write a Python program that asks for two numbers and checks:\n",
        "1. If the first number is greater than the second.\n",
        "2. If the first number is equal to the second.\n",
        "3. If the first number is less than or equal to the second.\n",
        "Print the results."
      ],
      "metadata": {
        "id": "3WV0vV3GeOBD"
      }
    },
    {
      "cell_type": "code",
      "source": [
        "a=int(input(\"Enter the first number:=\"))\n",
        "b=int(input(\"Enter the second number:=\"))\n",
        "if a==b:\n",
        "  print(\"Both the numbers are same....\")\n",
        "elif a>b:\n",
        "  print(\"a is greater than b....\")\n",
        "else:\n",
        "  print(\"a is smaller than b or b is greater than a....\")"
      ],
      "metadata": {
        "colab": {
          "base_uri": "https://localhost:8080/"
        },
        "id": "0AjkEIyfhk70",
        "outputId": "cb47c8e8-84a7-43ca-c3c8-44054042d167"
      },
      "execution_count": null,
      "outputs": [
        {
          "output_type": "stream",
          "name": "stdout",
          "text": [
            "Enter the first number:=12\n",
            "Enter the second number:=23\n",
            "a is smaller than b or b is greater than a....\n"
          ]
        }
      ]
    },
    {
      "cell_type": "markdown",
      "source": [
        "Exercise 3: Logical Operators\n",
        "Write a Python program that:\n",
        "1. Takes three boolean values (True or False) as input.\n",
        "2. Uses and, or, and not operators to return the result of combining them.\n"
      ],
      "metadata": {
        "id": "KP-U7G7dPgtS"
      }
    },
    {
      "cell_type": "code",
      "source": [
        "\n",
        "bool1 = input(\"Enter the first boolean value (True/False): \").strip().lower() == 'true'\n",
        "bool2 = input(\"Enter the second boolean value (True/False): \").strip().lower() == 'true'\n",
        "bool3 = input(\"Enter the third boolean value (True/False): \").strip().lower() == 'true'\n",
        "\n",
        "print(\"\\nAND result:\", bool1 and bool2 and bool3)\n",
        "print(\"OR result:\", bool1 or bool2 or bool3)\n",
        "print(\"NOT results:\", not bool1, \",\", not bool2, \",\", not bool3)\n"
      ],
      "metadata": {
        "colab": {
          "base_uri": "https://localhost:8080/"
        },
        "id": "zw8Q2QXYPfcH",
        "outputId": "03cacc43-7790-42f3-ac2a-7b58563e47a7"
      },
      "execution_count": 1,
      "outputs": [
        {
          "output_type": "stream",
          "name": "stdout",
          "text": [
            "Enter the first boolean value (True/False): True\n",
            "Enter the second boolean value (True/False): False\n",
            "Enter the third boolean value (True/False): True\n",
            "\n",
            "AND result: False\n",
            "OR result: True\n",
            "NOT results: False , True , False\n"
          ]
        }
      ]
    },
    {
      "cell_type": "markdown",
      "source": [],
      "metadata": {
        "id": "nWxUmL-3PM1c"
      }
    },
    {
      "cell_type": "markdown",
      "source": [
        "Part 2: Strings\n",
        "Exercise 4: String Manipulation\n",
        "1. Take a string input from the user.\n",
        "2. Display the following:\n",
        "o The length of the string.\n",
        "o The first and last character.\n",
        "o The string in reverse order.\n",
        "o The string in uppercase and lowercase"
      ],
      "metadata": {
        "id": "caGFk2FhPF77"
      }
    },
    {
      "cell_type": "code",
      "source": [
        "a=input(\"Enter the string:\")\n",
        "print(len(a))\n",
        "print(a[0],\"\",a[len(a)-1])\n",
        "a[::-1]\n",
        "if a.isupper()==True:\n",
        "  print(a.lower())\n",
        "else:\n",
        "  print(a.upper())\n"
      ],
      "metadata": {
        "colab": {
          "base_uri": "https://localhost:8080/"
        },
        "id": "PbRiaaO-igG9",
        "outputId": "3591763e-b273-48c5-9e4a-959029b64b56"
      },
      "execution_count": null,
      "outputs": [
        {
          "output_type": "stream",
          "name": "stdout",
          "text": [
            "Enter the string:nandhu\n",
            "6\n",
            "n  u\n",
            "NANDHU\n"
          ]
        }
      ]
    },
    {
      "cell_type": "code",
      "source": [],
      "metadata": {
        "id": "UOuTcLXxPVST"
      },
      "execution_count": null,
      "outputs": []
    },
    {
      "cell_type": "markdown",
      "source": [
        "Exercise 5: String Formatting\n",
        "Write a program that asks for the user's name and age, and displays the message in this format:\n",
        "Hello [Name], you are [Age] years old."
      ],
      "metadata": {
        "id": "Y9NBsCwqeTId"
      }
    },
    {
      "cell_type": "code",
      "source": [
        "name=input(\"Enter the name of the user:=\")\n",
        "age=int(input(\"Enter the age of the user:=\"))\n",
        "print(\"The name of the user is\",name,\"and the age is\",age)"
      ],
      "metadata": {
        "colab": {
          "base_uri": "https://localhost:8080/"
        },
        "id": "oEBekywgl-VQ",
        "outputId": "59e3ec80-5f53-4c38-e1d2-ac0e21a33851"
      },
      "execution_count": null,
      "outputs": [
        {
          "output_type": "stream",
          "name": "stdout",
          "text": [
            "Enter the name of the user:=Nandhu\n",
            "Enter the age of the user:=12\n",
            "The name of the user is Nandhu and the age is 12\n"
          ]
        }
      ]
    },
    {
      "cell_type": "markdown",
      "source": [
        "Exercise 6: Substring Search\n",
        "Write a Python program that:\n",
        "1. Asks for a sentence input from the user.\n",
        "2. Asks for a word to search in the sentence.\n",
        "3. Outputs whether the word exists in the sentence and, if it does, at which position (index)"
      ],
      "metadata": {
        "id": "1B1Go-F4eeWn"
      }
    },
    {
      "cell_type": "code",
      "source": [
        "li=[]\n",
        "sum=0\n",
        "\n",
        "for i in range(0,6):\n",
        "  n=int(input(\"Enter the values in the given list:=\"))\n",
        "  li.append(n)\n",
        "\n",
        "  sum=sum+li[i]\n",
        "print(li)\n",
        "li.sort()\n",
        "print(li)\n",
        "print(\"Max value is:\",li[5])\n",
        "print(\"Min value is:\",li[0])\n",
        "print(sum)\n",
        "\n"
      ],
      "metadata": {
        "id": "MG8zxHHCmjYs",
        "colab": {
          "base_uri": "https://localhost:8080/"
        },
        "outputId": "3702b00d-ccb7-4aee-fb7a-77087359f4d0"
      },
      "execution_count": null,
      "outputs": [
        {
          "output_type": "stream",
          "name": "stdout",
          "text": [
            "Enter the values in the given list:=1\n",
            "Enter the values in the given list:=2\n",
            "Enter the values in the given list:=3\n",
            "Enter the values in the given list:=4\n",
            "Enter the values in the given list:=5\n",
            "Enter the values in the given list:=6\n",
            "[1, 2, 3, 4, 5, 6]\n",
            "[1, 2, 3, 4, 5, 6]\n",
            "Max value is: 6\n",
            "Min value is: 1\n",
            "21\n"
          ]
        }
      ]
    },
    {
      "cell_type": "markdown",
      "source": [
        "Part 3: Lists\n",
        "Exercise 7: List Operations\n",
        "Write a Python program that:\n",
        "1. Creates a list of 5 numbers (input from the user).\n",
        "2. Displays the sum of all the numbers in the list.\n",
        "3. Finds the largest and smallest number in the list."
      ],
      "metadata": {
        "id": "tAYgDR8qejMv"
      }
    },
    {
      "cell_type": "code",
      "source": [
        "li=[\"apple\",\"orange\",\"grape\"]\n",
        "print(li)\n",
        "print(\"c:to change the list,r to remove the item,a: to append the item\")\n",
        "ch=input(\"Enter the choice:=\")\n",
        "if ch==\"c\":\n",
        "  n=int(input(\"Enter where u wanna add the number:=\"))\n",
        "  nn=input(\"Write the new fruit:=\")\n",
        "  li.insert(n,nn)\n",
        "  print(\"The updated list is:=\",li)\n",
        "elif ch==\"r\":\n",
        "  n=int(input(\"Enter the number u wanna remove:=\"))\n",
        "  li.remove(n)\n",
        "  print(\"The updated list is:=\",li)\n",
        "elif ch==\"a\":\n",
        "  n=input(\"Enter the new item u wanna add:=\")\n",
        "  li.append(n)\n",
        "  print(\"The updated list is:=\",li)\n",
        "\n"
      ],
      "metadata": {
        "colab": {
          "base_uri": "https://localhost:8080/"
        },
        "id": "KjpWCeqa6NAP",
        "outputId": "653b96da-d16e-4064-bf88-d888f5b934d7"
      },
      "execution_count": null,
      "outputs": [
        {
          "output_type": "stream",
          "name": "stdout",
          "text": [
            "['apple', 'orange', 'grape']\n",
            "c:to change the list,r to remove the item,a: to append the item\n",
            "Enter the choice:=c\n",
            "Enter where u wanna add the number:=1\n",
            "Write the new fruit:=pineapple\n",
            "The updated list is:= ['apple', 'pineapple', 'orange', 'grape']\n"
          ]
        }
      ]
    },
    {
      "cell_type": "markdown",
      "source": [
        "Exercise 8: List Manipulation\n",
        "1. Create a list of 5 of your favorite fruits.\n",
        "2. Perform the following:\n",
        "o Add one more fruit to the list.\n",
        "o Remove the second fruit from the list.\n",
        "o Print the updated list."
      ],
      "metadata": {
        "id": "T3puVbg1embk"
      }
    },
    {
      "cell_type": "code",
      "source": [
        "li=[]\n",
        "for i in range(0,6):\n",
        "  n=int(input(\"Enter the values in the given list:=\"))\n",
        "  li.append(n)\n",
        "print(li)\n",
        "li.sort()\n",
        "print('The ascending of the given list is:=',li)\n",
        "li.reverse()\n",
        "print('The descending of the given list is:=',li)\n"
      ],
      "metadata": {
        "colab": {
          "base_uri": "https://localhost:8080/"
        },
        "id": "oo4xrZ356aH0",
        "outputId": "aa6a1983-a10c-40fe-dcf1-0f197b3ea5df"
      },
      "execution_count": null,
      "outputs": [
        {
          "output_type": "stream",
          "name": "stdout",
          "text": [
            "Enter the values in the given list:=1\n",
            "Enter the values in the given list:=3\n",
            "Enter the values in the given list:=2\n",
            "Enter the values in the given list:=4\n",
            "Enter the values in the given list:=67\n",
            "Enter the values in the given list:=23\n",
            "The ascending of the given list is:= [1, 2, 3, 4, 23, 67]\n",
            "The descending of the given list is:= [67, 23, 4, 3, 2, 1]\n",
            "[67, 23, 4, 3, 2, 1]\n"
          ]
        }
      ]
    },
    {
      "cell_type": "markdown",
      "source": [
        "Exercise 9: Sorting a List\n",
        "Write a Python program that:\n",
        "1. Asks the user to input a list of 5 numbers.\n",
        "2. Sorts the list in ascending order and displays it.\n",
        "3. Sorts the list in descending order and displays it."
      ],
      "metadata": {
        "id": "C4TUqVjBgJ4G"
      }
    },
    {
      "cell_type": "code",
      "source": [
        "# Step 1: Ask the user to input a list of 5 numbers\n",
        "numbers = []\n",
        "for i in range(5):\n",
        "    num = float(input(f\"Enter number {i+1}: \"))\n",
        "    numbers.append(num)\n",
        "\n",
        "# Step 2: Sort the list in ascending order and display it\n",
        "ascending = sorted(numbers)\n",
        "print(\"List in ascending order:\", ascending)\n",
        "\n",
        "# Step 3: Sort the list in descending order and display it\n",
        "descending = sorted(numbers, reverse=True)\n",
        "print(\"List in descending order:\", descending)\n"
      ],
      "metadata": {
        "id": "SgEvgG5-gFi3"
      },
      "execution_count": null,
      "outputs": []
    },
    {
      "cell_type": "markdown",
      "source": [
        "Exercise 10: List Slicing\n",
        "Given the list numbers = [1, 2, 3, 4, 5, 6, 7, 8, 9, 10], perform the following:\n",
        "1. Print the first 5 elements.\n",
        "2. Print the last 5 elements.\n",
        "3. Print the elements from index 2 to index 7."
      ],
      "metadata": {
        "id": "W02aomtdeqC3"
      }
    },
    {
      "cell_type": "code",
      "source": [
        "numbers = [1, 2, 3, 4, 5, 6, 7, 8, 9, 10]\n",
        "li = []\n",
        "\n",
        "# Print and append the first five elements\n",
        "for i in range(0, 5):\n",
        "  print(numbers[i], end=\" \")\n",
        "  li.append(numbers[i])\n",
        "\n",
        "print(\"\\n\")\n",
        "print(\"The elements ranging from first to fifth is:=\", li)\n",
        "\n",
        "# Reverse the list\n",
        "numbers.reverse()\n",
        "\n",
        "# Print and append the first five elements of the reversed list\n",
        "for j in range(0, 5):\n",
        "  print(numbers[j], end=\" \")\n",
        "  li.append(numbers[j])\n",
        "\n",
        "print(\"\\n\")\n",
        "print(\"The elements ranging from last to fifth is:=\", li)\n"
      ],
      "metadata": {
        "colab": {
          "base_uri": "https://localhost:8080/"
        },
        "id": "H1NxakzH_SgA",
        "outputId": "6f26f221-090d-4716-d308-9537f659ebaf"
      },
      "execution_count": null,
      "outputs": [
        {
          "output_type": "stream",
          "name": "stdout",
          "text": [
            "1 2 3 4 5 \n",
            "\n",
            "The elements ranging from first to fifth is:= [1, 2, 3, 4, 5]\n",
            "10 9 8 7 6 \n",
            "\n",
            "The elements ranging from last to fifth is:= [1, 2, 3, 4, 5, 10, 9, 8, 7, 6]\n"
          ]
        }
      ]
    },
    {
      "cell_type": "markdown",
      "source": [
        "Bonus Challenge\n",
        "Exercise 11: Nested List\n",
        "Write a Python program that:\n",
        "1. Takes input of 3 students' names and their respective scores in 3 subjects.\n",
        "2. Stores them in a nested list.\n",
        "3. Prints each student's name and their average score"
      ],
      "metadata": {
        "id": "KUT9VLyxetga"
      }
    },
    {
      "cell_type": "code",
      "source": [
        "n=int(input(\"Tell me the number of students:\"))\n",
        "student=[]\n",
        "\n",
        "\n",
        "for i in range(1,n+1):\n",
        "  a=input(\"Enter the student name:\")\n",
        "  student.append(a)\n",
        "  sum=0\n",
        "  for j in range(1,4):\n",
        "    print(\"For subject\",j)\n",
        "    b=int(input(\"Enter the scores in the respective subjects:=\"))\n",
        "\n",
        "    if j<=4:\n",
        "\n",
        "      sum=sum+b\n",
        "      average=sum/3\n",
        "    else:\n",
        "      continue\n",
        "  print(\"Student\",i,\"average is:=\",average)\n",
        "\n",
        "\n"
      ],
      "metadata": {
        "colab": {
          "base_uri": "https://localhost:8080/"
        },
        "id": "3Ibl1SpfWo4G",
        "outputId": "a68452ff-bd32-4e4e-f344-63b07036a3df"
      },
      "execution_count": 4,
      "outputs": [
        {
          "output_type": "stream",
          "name": "stdout",
          "text": [
            "Tell me the number of students:3\n",
            "Enter the student name:Nandhu\n",
            "For subject 1\n",
            "Enter the scores in the respective subjects:=98\n",
            "For subject 2\n",
            "Enter the scores in the respective subjects:=97\n",
            "For subject 3\n",
            "Enter the scores in the respective subjects:=100\n",
            "Student 1 average is:= 98.33333333333333\n",
            "Enter the student name:Gayatri\n",
            "For subject 1\n",
            "Enter the scores in the respective subjects:=100\n",
            "For subject 2\n",
            "Enter the scores in the respective subjects:=98\n",
            "For subject 3\n",
            "Enter the scores in the respective subjects:=99\n",
            "Student 2 average is:= 99.0\n",
            "Enter the student name:Raju\n",
            "For subject 1\n",
            "Enter the scores in the respective subjects:=90\n",
            "For subject 2\n",
            "Enter the scores in the respective subjects:=89\n",
            "For subject 3\n",
            "Enter the scores in the respective subjects:=38\n",
            "Student 3 average is:= 72.33333333333333\n"
          ]
        }
      ]
    }
  ]
}